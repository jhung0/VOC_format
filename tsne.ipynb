{
 "cells": [
  {
   "cell_type": "code",
   "execution_count": 7,
   "metadata": {
    "collapsed": false
   },
   "outputs": [],
   "source": [
    "import sys\n",
    "import cv2\n",
    "import numpy as np\n",
    "sys.path.insert(0, '/home/ubuntu/caffe/python')\n",
    "import caffe\n",
    "import pprint\n",
    "sys.path.insert(0, '/home/ubuntu/py-faster-rcnn/caffe-fast-rcnn/python')\n",
    "sys.path.insert(0, '/home/ubuntu/py-faster-rcnn/lib')\n",
    "from fast_rcnn.config import cfg, cfg_from_file\n",
    "from fast_rcnn.test import im_detect\n",
    "import os\n",
    "from sklearn.manifold import TSNE"
   ]
  },
  {
   "cell_type": "code",
   "execution_count": 3,
   "metadata": {
    "collapsed": false
   },
   "outputs": [
    {
     "name": "stdout",
     "output_type": "stream",
     "text": [
      "1\n"
     ]
    }
   ],
   "source": []
  },
  {
   "cell_type": "code",
   "execution_count": 32,
   "metadata": {
    "collapsed": false
   },
   "outputs": [
    {
     "ename": "NameError",
     "evalue": "name 'net' is not defined",
     "output_type": "error",
     "traceback": [
      "\u001b[1;31m---------------------------------------------------------------------------\u001b[0m",
      "\u001b[1;31mNameError\u001b[0m                                 Traceback (most recent call last)",
      "\u001b[1;32m<ipython-input-32-7de311c60fe6>\u001b[0m in \u001b[0;36m<module>\u001b[1;34m()\u001b[0m\n\u001b[0;32m     24\u001b[0m \u001b[1;31m#extract feature vector from this layer\u001b[0m\u001b[1;33m\u001b[0m\u001b[1;33m\u001b[0m\u001b[0m\n\u001b[0;32m     25\u001b[0m \u001b[0mlayer\u001b[0m \u001b[1;33m=\u001b[0m \u001b[1;34m'fc7'\u001b[0m\u001b[1;33m\u001b[0m\u001b[0m\n\u001b[1;32m---> 26\u001b[1;33m \u001b[1;32mif\u001b[0m \u001b[0mlayer\u001b[0m \u001b[1;32mnot\u001b[0m \u001b[1;32min\u001b[0m \u001b[0mnet\u001b[0m\u001b[1;33m.\u001b[0m\u001b[0mblobs\u001b[0m\u001b[1;33m:\u001b[0m\u001b[1;33m\u001b[0m\u001b[0m\n\u001b[0m\u001b[0;32m     27\u001b[0m     \u001b[1;32mraise\u001b[0m \u001b[0mTypeError\u001b[0m\u001b[1;33m(\u001b[0m\u001b[1;34m\"Invalid layer name: \"\u001b[0m \u001b[1;33m+\u001b[0m \u001b[0mlayer\u001b[0m\u001b[1;33m)\u001b[0m\u001b[1;33m\u001b[0m\u001b[0m\n\u001b[0;32m     28\u001b[0m \u001b[1;33m\u001b[0m\u001b[0m\n",
      "\u001b[1;31mNameError\u001b[0m: name 'net' is not defined"
     ]
    }
   ],
   "source": [
    "# Must turn this off to prevent issues when digging into the net blobs to\n",
    "# pull out features (tricky!)\n",
    "cfg.DEDUP_BOXES = 0\n",
    "\n",
    "faster_rcnn_dir = '/home/ubuntu/py-faster-rcnn'\n",
    "data_dir = '/home/ubuntu/try1/data'\n",
    "\n",
    "image_files = []\n",
    "with open(os.path.join(data_dir, 'ImageSets','test.txt')) as f:\n",
    "    filenames = f.readlines()\n",
    "num_images = len(filenames)\n",
    "''' \n",
    "cfg_file = os.path.join(faster_rcnn_dir, 'experiments/cfgs/faster_rcnn_end2end.yml')\n",
    "if cfg_file is not None:\n",
    "    cfg_from_file(cfg_file)\n",
    "print('Using config:')\n",
    "pprint.pprint(cfg)\n",
    "\n",
    "model_file = os.path.join(faster_rcnn_dir, 'output/faster_rcnn_end2end/train/vgg_cnn_m_1024_faster_rcnn_iter_100000.caffemodel')\n",
    "deploy_prototxt = os.path.join(faster_rcnn_dir, 'models/VGG_CNN_M_1024/faster_rcnn_end2end/test.prototxt')\n",
    "net = caffe.Net(deploy_prototxt, model_file, caffe.TEST)\n",
    "'''\n",
    "\n",
    "#extract feature vector from this layer\n",
    "layer = 'fc7' \n",
    "#if layer not in net.blobs:\n",
    "#    raise TypeError(\"Invalid layer name: \" + layer)\n",
    "\n",
    "#samples x features\n",
    "X = np.array([])\n",
    "for i in xrange(num_images):\n",
    "    input_image_file = filenames[i].strip()\n",
    "    img = cv2.imread(os.path.join(data_dir, 'Images', input_image_file+'.jpg'))\n",
    "    #extract single objects\n",
    "    with open(os.path.join(data_dir, 'Annotations', input_image_file+'.txt')) as fa:\n",
    "        annotations = fa.readlines()\n",
    "    coordinates = [map(int, annotation.strip().split(' ')[:-2]) for annotation in annotations]\n",
    "    labels = [annotation.strip().split(' ')[-2] for annotation in annotations]\n",
    "    difficult = [annotation.strip().split(' ')[-1] for annotation in annotations]\n",
    "    \n",
    "    #runs image through net (Detect object classes in an image given object proposals.)\n",
    "    scores, boxes = im_detect(net, img, coordinates)\n",
    "        \n",
    "    #get features from layer\n",
    "    feat = net.blobs[layer].data\n",
    "    #output = net.forward()\n",
    "    np.append(X, feat)"
   ]
  },
  {
   "cell_type": "code",
   "execution_count": null,
   "metadata": {
    "collapsed": true
   },
   "outputs": [],
   "source": [
    "\n"
   ]
  }
 ],
 "metadata": {
  "kernelspec": {
   "display_name": "Python 2",
   "language": "python",
   "name": "python2"
  },
  "language_info": {
   "codemirror_mode": {
    "name": "ipython",
    "version": 2
   },
   "file_extension": ".py",
   "mimetype": "text/x-python",
   "name": "python",
   "nbconvert_exporter": "python",
   "pygments_lexer": "ipython2",
   "version": "2.7.6"
  }
 },
 "nbformat": 4,
 "nbformat_minor": 0
}
